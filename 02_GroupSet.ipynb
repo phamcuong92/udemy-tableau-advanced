{
 "cells": [
  {
   "cell_type": "markdown",
   "metadata": {
    "collapsed": true
   },
   "source": [
    "# Section 2: Groups and Sets"
   ]
  },
  {
   "cell_type": "markdown",
   "metadata": {},
   "source": [
    "### Lecture 3: Project Brief: 1,000 Startups\n",
    "- You are able to group by folder rather than grouping by data source. This can be a good way to make it more clean.\n",
    "- After you do that, you can then have a more organized way of looking at the measures and dimensions. This can help you hide certain measure/dimensions that are duplicates (if you combining differerent data sources)"
   ]
  },
  {
   "cell_type": "markdown",
   "metadata": {},
   "source": [
    "### Lecture 4: Working with Groups\n",
    "- If for some weird reason, one of the dimension is green (supposed to be blue), you can put the variable in the measures and then put it back in the dimensions!\n",
    "- If you want to analyze a group specifically, make sure that you take advantage of the Group option.\n",
    "- Select the group you want\n",
    "    - Then, you wait for tooltip and click the Paperclip icon\n",
    "- A new dimension will be created, use it!\n",
    "- Right click on the group to customize any more information.\n",
    "- Another way to create a group is look for the measure you want to adjust\n",
    "    - **Right Click -> Create Group**\n",
    "- When you use group, Tableau is able to find the average of each indivual observation"
   ]
  },
  {
   "cell_type": "markdown",
   "metadata": {},
   "source": [
    "### Lecture 5: Creating Static Sets\n",
    "- Groups and Sets are different\n",
    "- The drawback, or it could be a good thing is the grouping will affect any data visualizations that use the groups!\n",
    "- The course explains that one of the issues is being able to distinguish a couple of variables and that doing filter, or using color can be tedious. VERY TRUE.\n",
    "- A way to solve is to use sets .\n",
    "- Select the variables you want to look at, and then click Create Set\n",
    "- Using Sets can help us a lot.\n",
    "- It performs the whole thing much more quicker!\n",
    "- A new field of IN/OUT appears with the Set\n",
    "- THESE SETS ARE GREAT FOR FILTERING THE DATA YOU WOULD LIKE TO USE!\n",
    "- These sets are hardcoded into your workbook and hence can be difficult to change, dynamic sets are optimal for this"
   ]
  },
  {
   "cell_type": "markdown",
   "metadata": {},
   "source": [
    "### Lecture 6: Creating Dynamic Sets\n",
    "- Unlike the static set, you cannot create the set from the visualization\n",
    "- You must click the variable you want to use\n",
    "    - Right click on it\n",
    "    - Then create sets\n",
    "    - Click on the USE ALL option, so the set will be always applicable even when new data will come in\n",
    "    - THEN you must specify the condition \n",
    "    - However, you do not need to include a conditin\n",
    "    - You can also look at the information of the top 10, which will be used in our case\n",
    "- This is very different and a lot better in my opinion because \n",
    "    - you can change your top 10 to top 5 without having to manually choose those 5 largest!"
   ]
  },
  {
   "cell_type": "markdown",
   "metadata": {},
   "source": [
    "### Lecture 7: Combining Sets\n",
    "- In order to combine sets, they must have the same dimenisions\n",
    "- Click on the set you want to be part of the combination\n",
    "    - From there, you click Create Combine Set\n",
    "    - You will select the sets you want to combine and how"
   ]
  },
  {
   "cell_type": "markdown",
   "metadata": {},
   "source": [
    "### Lecture 8: Controlling Sets With Parameters\n",
    "- We are going to be adding parameters\n",
    "- This is what you have been doing with the dimension selection and measure selection, allowing the user to decide what specific event he/she wants to look at.\n",
    "- For the given sets you have created, you can use the value that is placed by the parameters.\n",
    "- **If the Set was created through the TOP tab**\n",
    "    - **Go to the Set -> Click Top -> Select the dropdown (the values of the top you want to look at) -> Select the parameter you have created**\n",
    "- **If the Set was created through the CONDTIONAL tab **\n",
    "    - **Go to the Set -> Click Condition -> Use the formula box -> Use conditional operators with the desired measures against the parameter to control that measures**"
   ]
  },
  {
   "cell_type": "markdown",
   "metadata": {},
   "source": [
    "### Lecture 9: Dashboard: The Startup Quadrant\n",
    "- Make sure you make your dashboard as simple as possible!\n",
    "- If you would like to add more **Parameters**, make sure you go to Analysis and select the parameters you would like to include!\n",
    "- One of the bad things is that when we try to check for two parameters, the color will not work for both sets. The only way for it to work is if we **command and click the dimension/parameters** and then put it in the color section !\n",
    "- Recall the target and top startup quadrants are meant to check the expense/revenue (target), and top startup (growth).\n",
    "- Adjust the color to check the make the info more visible"
   ]
  },
  {
   "cell_type": "markdown",
   "metadata": {},
   "source": [
    "### Lecture 10: Dashboard Tricks\n",
    "- The way to get the number code of the color is to look for the color you would like, then check on the color, and check the information on the color!\n",
    "- Make sure to check for RGB Sliders in the Edit Color\n",
    "- One of the drawbacks is making the color are consisent throughout the graphs. If one color represents something different in another graph (especially in the dashboard) that can cause great confusion\n",
    "- In order to change the range of the color, you must **Edit Color -> Advanced -> Make min to 0**. This works bc the min of the value will be remain the red color in our example\n",
    "- But the 0 might be too red, play around with the color min\n",
    "- In the Dashboard, make use of the text. This can be a great help for the dashboard\n",
    "- Another to keep an eye on is the parameter, you will then adjust the number range that best fits the way we are looking at because we should not be have too much numbers!\n",
    "- **Referenced Line**\n",
    "    - Right click on this axis we are looking at and use the info. on the actual info\n",
    "    - Remember to use the parameter!\n",
    "- You can create the droplines by looking at the information of one of the observations and click dropdown!\n",
    "- Sometimes is best not to include the tooltip if you do not want too!\n",
    "- Always make sure the tooltip looks great!"
   ]
  },
  {
   "cell_type": "markdown",
   "metadata": {},
   "source": [
    "### Lecture 11: Section Recap\n",
    "**MAIN THINGS**\n",
    "- How to create groups\n",
    "- Groups vs Sets\n",
    "- Static Sets\n",
    "- Dynamic Sets\n",
    "- Combining Sets\n",
    "- Controlling sets with parameters\n",
    "- Creating sets via Formulas\n",
    "\n",
    "**ALSO**\n",
    "- How to create Folders\n",
    "- How to set default properties for Fields\n",
    "- How to use two dimensions (or sets) in colors\n",
    "- How to add Referenced Lines\n",
    "- How to add Drop Lines\n",
    "- How to create useful Tooltips\n",
    "- Other Asethetics & Best Practices"
   ]
  },
  {
   "cell_type": "markdown",
   "metadata": {},
   "source": [
    "### Key shortcut:\n",
    "- Instead of performing shortcut, you can simply edit the text from the field itself.\n",
    "    - Make sure you check under Default Properties\n",
    "- Remember to always APPLY then OKAY\n",
    "- Flipping axis\n",
    "    - Click on axis, then choose reverse!\n",
    "- When adding a parameter, and you want to add a range, make use of the max and min. The max and min can be easily populated from the \"Set From Field\"! Thus, select the desired measure.\n",
    "- In essence, the parameter create the boundary you will create\n",
    "- The set is the group of specific measures that were created based on the parameter\n",
    "- The parameter can be created by the user!"
   ]
  }
 ],
 "metadata": {
  "kernelspec": {
   "display_name": "Python 3",
   "language": "python",
   "name": "python3"
  },
  "language_info": {
   "codemirror_mode": {
    "name": "ipython",
    "version": 3
   },
   "file_extension": ".py",
   "mimetype": "text/x-python",
   "name": "python",
   "nbconvert_exporter": "python",
   "pygments_lexer": "ipython3",
   "version": "3.6.0"
  }
 },
 "nbformat": 4,
 "nbformat_minor": 2
}
