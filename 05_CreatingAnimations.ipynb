{
 "cells": [
  {
   "cell_type": "markdown",
   "metadata": {},
   "source": [
    "# Section 5: Creating Animations in Tableau"
   ]
  },
  {
   "cell_type": "markdown",
   "metadata": {},
   "source": [
    "### Lecture 42: Editing Blending Relationships\n",
    "- WE will be doing the entire project using blends, not joins\n",
    "- Double check the created blends before you proceed with the project"
   ]
  },
  {
   "cell_type": "markdown",
   "metadata": {},
   "source": [
    "### Lecture 43: Building the Visualisation\n",
    "- There are a lot of steps in this!\n",
    "- One thing that you must rememebr is to always inlude the blend from the data\n",
    "- You should always look at the infomration from the sized of the shapes individually\n",
    "    - Sometimes the size of it will not increase for all the sized, or at least to your desired size"
   ]
  },
  {
   "cell_type": "markdown",
   "metadata": {},
   "source": [
    "### Lecture 44: Adding Animation\n",
    "- You must use the Pages tab\n",
    "- You can adjust the speed of the animation\n",
    "- Take advanatge of setting the title of the page to the actual tab in the pages"
   ]
  },
  {
   "cell_type": "markdown",
   "metadata": {},
   "source": [
    "### Lecture 45: Manually Sorting Blended Data\n",
    "- One of the things in this animation is that the color legends indicates which bubble is shown infront when two bubble are occcupying the same space\n",
    "- The thing is that you cannot this from the legend or the measure/dimensons tabs\n",
    "- You have to directly go to the data source and look for the optiion you are tyring to fix\n",
    "    - Default Properties -> Sort"
   ]
  },
  {
   "cell_type": "markdown",
   "metadata": {},
   "source": [
    "### Lecture 46: Leaving a Trail in your Animations\n",
    "- You can leave a trail if you simply click show history on the animation and click on a country and press play on the animation\n",
    "- One of the neat things you can do is leave a trial (there are a couple of options) ** Must clikc on show options**\n",
    "- You can select the all option to see the changing in time of all the countries\n",
    "- Another thing to keep in ind is the tooltip\n",
    "    - Always take (or most of the time) the command in the tooltip\n",
    "    - Also, make sue you condiered the options of how long it takes for the tooltip\n",
    "- If you want to change the theme\n",
    "    - **Format -> Workboo theme -> Select your theme **"
   ]
  }
 ],
 "metadata": {
  "kernelspec": {
   "display_name": "Python 3",
   "language": "python",
   "name": "python3"
  },
  "language_info": {
   "codemirror_mode": {
    "name": "ipython",
    "version": 3
   },
   "file_extension": ".py",
   "mimetype": "text/x-python",
   "name": "python",
   "nbconvert_exporter": "python",
   "pygments_lexer": "ipython3",
   "version": "3.6.5"
  }
 },
 "nbformat": 4,
 "nbformat_minor": 2
}
