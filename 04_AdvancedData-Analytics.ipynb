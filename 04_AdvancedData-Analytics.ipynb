{
 "cells": [
  {
   "cell_type": "markdown",
   "metadata": {},
   "source": [
    "# Section 4: Advanced Data Prep + Analytics In Tableau"
   ]
  },
  {
   "cell_type": "markdown",
   "metadata": {},
   "source": [
    "### Lecture 27: Project Brief: Retail Sector Forecasts\n",
    "- You are asked to check the finding of potential location for a new store. You must present then finding to the owner whos hoping to expand into new location"
   ]
  },
  {
   "cell_type": "markdown",
   "metadata": {},
   "source": [
    "### Lecture 28: Building Box Plots in Tableau\n",
    "- Never use a net profit as the sum, it makes no sense\n",
    "- What are some of the insight you can depict, that's the question you should be asking yourself all the time.\n",
    "- To include the boxplots -> **GO TO ANALYTICS -> CLICK ON THE NET PROFIT**"
   ]
  },
  {
   "cell_type": "markdown",
   "metadata": {},
   "source": [
    "### Lecture 29: Analysing Box Plots\n",
    "- Box plot focused on the median, not the mean\n",
    "- Intersting! **A good rule of thump for outliers**\n",
    "    - Measure the interquartile range (Q3-Q1)\n",
    "    - Multiply the interquartile range * 1.5\n",
    "    - If the whiskers are a greater length than that, you should think about exluding the outlier\n",
    "- You have more certinaity of the vlaues with a more compact box plot than with a wide spread one\n",
    "- You would like the median closer to the (max/min) that's closer to your desire \n",
    "- A good way of looking at box plot is through a distribution graph\n",
    "    - plotting a box plot sideways\n",
    "    - check if its right/left distribution\n",
    "    - for salaries, we would like it to be left skewed where most of the people have higher salaries\n",
    "- In tableau, it uses the same benchmark!\n",
    "    - If there are values beyond the box plot, they are considered outliers\n",
    "- The larger the boxplot, the more uncertainity\n",
    "- Victoria is the best state because the results are more compacted which means less uncertainity!"
   ]
  },
  {
   "cell_type": "markdown",
   "metadata": {},
   "source": [
    "### Lecture 30: Working with Large Data Sources\n",
    "- Always save the original copy\n",
    "- The best way to deal with empty columns, or a good way, it to hide the columns\n",
    "- Take advantage of the data source filter when dealing with lots amount of data, this will only be effective when preparing the data\n",
    "- Hence, we can work with a filtered amount of data at first\n",
    "- When we are pivoting large amount of data, w would eventually have to split the data for more approriate columns"
   ]
  },
  {
   "cell_type": "markdown",
   "metadata": {},
   "source": [
    "### Lecture 31: What Does Real World Retail Look Like?\n",
    "- Remember if you are using a lot of columns, to focus on the axis. No info might be shown because the axis are created for every column. **Change it to indepedent**\n",
    "- Now, to change the info on the filter, you can click on the data source and unfilterted what you filtered to create the data\n",
    "    - This can be done be clicking on the data source"
   ]
  },
  {
   "cell_type": "markdown",
   "metadata": {},
   "source": [
    "### Lecture 33: Primary Use Case For Data Source Filters\n",
    "- ONe of the bad things with using the filter is tht it can sometimes take too long for the computation to compuyte\n",
    "- A bettter approach is to apply the filter from the actual data source\n",
    "- Hence, make sure you take advanatge of the filer that occur at the data source level"
   ]
  },
  {
   "cell_type": "markdown",
   "metadata": {},
   "source": [
    "### Lecture 34: Trendlines\n",
    "- You can select the trend line, and from there, you can edit the trendlines to other types like polynomial, log, et cetera\n",
    "- Make sure you also remember the option that you can a trend line per color\n",
    "- Sometimes you should keep the option to make trend line when you select point, this can easily help you realize smaller interval trends"
   ]
  },
  {
   "cell_type": "markdown",
   "metadata": {},
   "source": [
    "### Lecture 35: Data Prep Exercise\n",
    "- Make sure you understand how to data prep"
   ]
  },
  {
   "cell_type": "markdown",
   "metadata": {},
   "source": [
    "### Lecture 36: Advanced Timeseries Blending\n",
    "- First step: **Go Data -> Edit Relationships -> Custom -> (If you are talking about connect datasets on date, make sure you include years, quarter, months, day)**\n",
    "- Sometimes you hvae more info on on datset than the other\n",
    "- for example, if one dataset is created on quarter and the other on months, we must use YEARS and QUARTERS to blend the data\n",
    "- To confirm that you want to use the created relationship, click on the chain like symbol next to the dimension (in the case date)\n",
    "- Kind of tricky, but you must put in the info from the secondary dataset into the detail (what the dataset matched on, in our case, year and quarter)\n",
    "- The course example was a bit unclear, but you must remeber to include the filter from both dataset if they are they represent the samething! (like States)\n",
    "- We can combien year with a quarter (only one quarter) since we know if it falls withing a quarter, then it must fall within the year\n",
    "    -  A way to do is to go to filter in the datasource and make sure you only have it for a specific month, I guess we will lose info. on the other months\n",
    "    - The drawback will be that the data will state the the population for the given year will be the population on that specific month"
   ]
  },
  {
   "cell_type": "markdown",
   "metadata": {},
   "source": [
    "### Lecture 37: Calculating Sales Per Capita\n",
    "- One great way to use the calculated field btw dataset is to drag the secondary data set into the calculated field rather than remembering how to type it \n",
    "- Most industries have an upward trend\n",
    "- Victoria is the best state to pursuit for expansion\n"
   ]
  },
  {
   "cell_type": "markdown",
   "metadata": {},
   "source": [
    "### Lecture 38: Forecasting in Tableau\n",
    "- **Anaytlics -> Forecast**\n",
    "- More dates are added that explain the forecast of the dataset for future dates\n",
    "- In the options, you can adjust years, confidence interval, and othe features"
   ]
  },
  {
   "cell_type": "markdown",
   "metadata": {},
   "source": [
    "### Lecture 39: How to Present a Storyline\n",
    "- Make use of the Horinzontal in the dashboard!"
   ]
  }
 ],
 "metadata": {
  "kernelspec": {
   "display_name": "Python 3",
   "language": "python",
   "name": "python3"
  },
  "language_info": {
   "codemirror_mode": {
    "name": "ipython",
    "version": 3
   },
   "file_extension": ".py",
   "mimetype": "text/x-python",
   "name": "python",
   "nbconvert_exporter": "python",
   "pygments_lexer": "ipython3",
   "version": "3.6.0"
  }
 },
 "nbformat": 4,
 "nbformat_minor": 2
}
