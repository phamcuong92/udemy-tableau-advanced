{
 "cells": [
  {
   "cell_type": "markdown",
   "metadata": {},
   "source": [
    "# Section 7: Review"
   ]
  },
  {
   "cell_type": "markdown",
   "metadata": {},
   "source": [
    "- Data:\n",
    "- Conceptual:\n",
    "- Visualization:"
   ]
  },
  {
   "cell_type": "markdown",
   "metadata": {},
   "source": [
    "### Section 2:\n",
    "- Data: Joining Data, Creating Folders, Default Properties for Fields\n",
    "- Conceptual: Groups, Groups vs Sets, Statics and Dynamics Sets, Combining Sets, Sets + Parameters, Sets via Formulas\n",
    "- Visualization: 2+ Dimensions in color, Drop Lines, Referenced Lines, Tooltips, Adjusting the Color Range, Dynamic Text in Dashboard\n"
   ]
  },
  {
   "cell_type": "markdown",
   "metadata": {},
   "source": [
    "### Section 3: \n",
    "- Data: Creating Multiple Joins, Quality Assurance For Table Calculations\n",
    "- Conceptual: Calculated Fields vs Table Calculations, Quick Table Calculations, Saving Table Calculations, Table Calculations from Formulas, 2nd-Tier Table Calculations, Direction of Computation, Trendlines\n",
    "- Visualization: Creating a Storyline, Using Dashboard as an Intermediary Step, Annotating a Storyline, Adding Images to a Storyline"
   ]
  },
  {
   "cell_type": "markdown",
   "metadata": {},
   "source": [
    "### Section 4: \n",
    "- Data: Advanced Pivot, Split, Hiding Unwanted Columns, Data Source Filters, Tips for Working with Large Datasets, Advanced Time Series Blending \n",
    "- Conceptual: Boxplots, Trend Lines, Forecasts, Calc Field in a blend\n",
    "- Visualization: How to present a storyline"
   ]
  },
  {
   "cell_type": "markdown",
   "metadata": {},
   "source": [
    "### Section 5: \n",
    "- Data: Creating Multiple Blends, Editing Blend Relationships\n",
    "- Conceptual: Animations, Animations Controls, Manually Sorting Blending Data\n",
    "- Visualization: Animations, Leaving a Trail in Animations, Tooltips: Responsive vs On Hover, Workbook Themes"
   ]
  }
 ],
 "metadata": {
  "kernelspec": {
   "display_name": "Python 3",
   "language": "python",
   "name": "python3"
  },
  "language_info": {
   "codemirror_mode": {
    "name": "ipython",
    "version": 3
   },
   "file_extension": ".py",
   "mimetype": "text/x-python",
   "name": "python",
   "nbconvert_exporter": "python",
   "pygments_lexer": "ipython3",
   "version": "3.6.0"
  }
 },
 "nbformat": 4,
 "nbformat_minor": 2
}
