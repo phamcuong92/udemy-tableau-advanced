{
 "cells": [
  {
   "cell_type": "markdown",
   "metadata": {},
   "source": [
    "# Section 3: Advanced Table Calculations"
   ]
  },
  {
   "cell_type": "markdown",
   "metadata": {},
   "source": [
    "### Lecture 13: Project Brief: Coal Terminal Utilization Analysis\n",
    "- Explaining the project\n",
    "- There are trains, machines, and ships involvement in the coal process\n",
    "- Because this whole process is fast moving, it is very difficult to access the machinery without stopping. They cannot stop it to check for any need that they need to work on\n",
    "- GOAL\n",
    "    - Idle Capacity = (Actual tonnage - Normal Capcaity)/Normal Capacity\n",
    "    - Your task is to find out which of the 5 machines have exceeded this level and create a report for the executive stakeholders with your recommendations.\n",
    "- The greater the idle capacity -> the worse"
   ]
  },
  {
   "cell_type": "markdown",
   "metadata": {},
   "source": [
    "### Lecture 14: Creating Multiple Joins in Tableau\n",
    "- You have a lot of datasets, we must connect them through the joins in the blank sheet in Tableau\n",
    "- An idea might be using a Master Dataset with tabs from the different sets. The bad thing with this approach is that you might have data observations in the other dataset. Thus, these points in the datasets that are not part of the master will get lost\n",
    "- One of the things you can do is use Excel and look for the max and min range and just create rows for it regardless if they are in the datasets!\n",
    "- Excel could be used which provides a blueprint of the data\n",
    "- Make you sure you always pivot tables that are similar!"
   ]
  },
  {
   "cell_type": "markdown",
   "metadata": {},
   "source": [
    "### Lecture 15: Calculated Fields vs Table Calculations\n",
    "- Running Total Calculation is the sum of all the previos. It's basically a cumulative graph\n",
    "- Difference is simply the difference btw. the last period and the current one\n",
    "    - With the difference calculation, you can choose relative to which difference you are comparing too. It can be next or even the first value!\n",
    "- Table Calculation: Are conducted after the aggregation\n",
    "- Calculated Field: Are conducted before the aggregation\n",
    "- At a very high level, MOST calculated fields are sent back as queries to the data source, so Tableau does not have to compute them at all -- instead, Excel, Access, MS SQL Server, or whatever data source you're using is providing the results via the query sent by Tableau.\n",
    "- Table Calculations happen locally, after the aggregate results are displayed on a viz in Tableau -- hence, the name \"Table Calculation\" (once you setup a table with something like SUM(Sales), you then can apply calculations to it very easily from a drop down menu on the measure).\n",
    "- Table Calculations (including the Quick Table Calculations) live in our Tableau View. They are created in the view and stay there, locally in our worksheet.\n",
    "- Calculated Fields are created on a data level and appear as a separate column in the data source. Tableau doesn’t change the source, but can create an extract where the calculations will be visible."
   ]
  },
  {
   "cell_type": "markdown",
   "metadata": {},
   "source": [
    "### Lecture 16: Creating Advanced Table Calculations\n",
    "- **Tips** If you clikc on the tab, you can select the crosstab option to turn the graphs into pictures!\n",
    "- One of the great things to use is the relative difference. Remember to exclude the values you do not need!"
   ]
  },
  {
   "cell_type": "markdown",
   "metadata": {},
   "source": [
    "### Lecture 17: Saving a Quick Table Calculations\n",
    "- Make sure your graphs are clear. Do not use upside graphs.\n",
    "- You should flip the chart by Using Edit AXIS but using reverse does not make sense!\n",
    "- A great thing to do is to include the table calculation back to the measures, as a way of storing it!\n",
    "- Remember, to add referecned line, you must click on the axis, not on the graphs!\n",
    "- It's always best to use the exact variable when dealing with table calculation than relying on the top or bottom rows\n",
    "- Things are being a bit complicated but the thing to understand is that when you perform calulcations, it will get store but you have to make you are using the actual values and not a ACROSSS OR BELOW type of calculations!"
   ]
  },
  {
   "cell_type": "markdown",
   "metadata": {},
   "source": [
    "### Lecture 19: Writing your own Table Calculations\n",
    "- Some of the calculation we used were FIRST, INDEX, LOOKUP\n",
    "- Intersting: For the RUNSUM, you must include the sum in the tonnes. The reason being, is that if we loom at the informaiton, we know that we need to use the sum of tonnes. (remember the graph in the upper half, we need to use that info. which is the sum of tonnes)\n",
    "- Kind of unclear but **WINDOW is a subset of your rows**\n",
    "- WINDOW AVG can be understood as a moving average!\n",
    "- **LOOKUP** is a weird way of checking the information of other rows. For example, using LOOKUP(SUM[Tonnes], 2) shows the sum from 2 rows to the right!"
   ]
  },
  {
   "cell_type": "markdown",
   "metadata": {},
   "source": [
    "### Lecture 20: Adding a Second Layer Moving Average\n",
    "- One of the things in the data is that we want to look for machines that during an 8 hour period, have a lower idle capacity than 10 percent!"
   ]
  },
  {
   "cell_type": "markdown",
   "metadata": {},
   "source": [
    "### Lecture 22: Quality Assurance For Table Calculations\n",
    "- The thing we hvae to make sure that is that the info. is correct before we assume things. We cannot come to conlusion without verfying the data in the Excel Sheets\n",
    "- One of the thing with the MA is that if there's any blank values, it can mess up the moving average!\n",
    "- Make use of the conditional statements\n",
    "- ** A GREAT WAY TO MAKE THAT WE DO HAVE ENOUGH DATA IS TO LOOK AT THE WINDOW COUNT. THEN, YOU CAN WRITE N IF CONDITION THAT CAN TELL US THAT THERE'S ENOUGH DATA POINTS!**"
   ]
  },
  {
   "cell_type": "markdown",
   "metadata": {},
   "source": [
    "### Lecture 23: Trendlines for Power-Insights\n",
    "- Recall that this project want us to look at machines that are underperforming. This tell us that we are looking for a percent difference of at least 10 percent under the desired efficiency\n",
    "- The way the instructor thinks is great! If there's a plateau in the data, it can kind of tell us that is a planned pause rather a random occurence. Especially, when one is positive and the other is a reflection but in the opposite direction.\n",
    "- **TREND LINE**\n",
    "- It's easy to use, right click in the graph\n",
    "- This can provide a lot of infomration. Even machines that the idle capacity is not above the 10 percent line, we can see which machines might cause to be above the 10 percent line"
   ]
  },
  {
   "cell_type": "markdown",
   "metadata": {},
   "source": [
    "### Lecture 24: Creating a Storyline\n",
    "- Remember that you must fix Tabealu when you add a trend line bc if you lcikc on a cpuple of points, then your trend line will affect the selected points\n",
    "- Like before, **GO To Trend Line -> Edit Trend Line -> Unselect \"Show recalculated Fields\"**\n",
    "- **REMEMBER**\n",
    "    - You can Unselect the option to include the command in the tooltip! \n",
    "- The best way to complete a Story is by first crating a Dashboard!\n",
    "- Some of the keys you should remember is to check for the labeling of the axis. Make sure that the margin is the best and there's not a huge white space\n",
    "- In the stories, do not leave it too blank. Make sure you have a lot of explanationg for the graphs in the story!\n",
    "- Trick for pointing things to an image in a story\n",
    "    - **Floating -> Add Text -> Century Gothnic Font -> Use the Letter O -> Make it Red and large enought -> Insert**\n",
    "    "
   ]
  }
 ],
 "metadata": {
  "kernelspec": {
   "display_name": "Python 3",
   "language": "python",
   "name": "python3"
  },
  "language_info": {
   "codemirror_mode": {
    "name": "ipython",
    "version": 3
   },
   "file_extension": ".py",
   "mimetype": "text/x-python",
   "name": "python",
   "nbconvert_exporter": "python",
   "pygments_lexer": "ipython3",
   "version": "3.6.0"
  }
 },
 "nbformat": 4,
 "nbformat_minor": 2
}
