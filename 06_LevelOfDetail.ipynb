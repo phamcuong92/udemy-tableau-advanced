{
 "cells": [
  {
   "cell_type": "markdown",
   "metadata": {},
   "source": [
    "# Section 6: Level Of Detail Calculations (LOD)"
   ]
  },
  {
   "cell_type": "markdown",
   "metadata": {},
   "source": [
    "### Lecture 50: Preparing the workbook\n",
    "- Always make sure you are connecting the right souce and there's the exact number of rows that is supposed to be in the dataset!"
   ]
  },
  {
   "cell_type": "markdown",
   "metadata": {},
   "source": [
    "### Lecture 51: Aggregation and Granularity (refresher)\n",
    "- Remember to check the dataset and that the info. is apporpriate for the measure you are looking for.\n",
    "- Granular and aggregation are complete opposite!\n",
    "- Granular is how in depth we look at things, the more in depth -> the more granular\n",
    "- Aggregation of the total is always largest at the top\n",
    "- **MEASURES IS WHAT GETS AGGREGATED**\n",
    "- **DIMENSIONS SPECIFIES THE LEVEL OF WHICH IT AGGREGATES**"
   ]
  },
  {
   "cell_type": "markdown",
   "metadata": {},
   "source": [
    "### Lecture 52: LOD Calculations Intuition\n",
    "- LOD Calculation\n",
    "    - INCLUDE: Allows you to work on a lower level of granularity and bring it back to the more aggregate display of the data. This is like going from a parent directory to a subdirectory.\n",
    "    - EXCLUDE: You can pretty much exclude the current level of granularity to focus on a lower level of aggregation. This is like going from the current directory to the parent directory\n",
    "    - FIXED: YOu want the display you are using, always displaying the result. You are only looking at the absolute path"
   ]
  },
  {
   "cell_type": "markdown",
   "metadata": {},
   "source": [
    "### Lecture 53: LOD Type 1: INCLUDE\n",
    "- Intersting point. When doing the example of the project per state and city, he mentioned he did not want the profit of all of them. Instead, he wants the sum of the profit of the cities and then find the average based on those results\n",
    "- The way does it does the calculation without the LOD, is that it gets all the profits and averages for the state\n",
    "- For the LOD, it average the city, then averages those number to shown as the state!\n"
   ]
  },
  {
   "cell_type": "markdown",
   "metadata": {},
   "source": [
    "### Lecture 54: Understanding ATTR() in Tableau\n",
    "- Will only retuyrn back some information if the entire database only has only value for all rows!\n",
    "- ** You only have to right clikc it and change it to Attribute**\n",
    "- Will paste the vlaue only if there's one for every row of that specific display. If we are looking at states, city will return * because there are a lot citieis that are part of that city"
   ]
  },
  {
   "cell_type": "markdown",
   "metadata": {},
   "source": [
    "### Lecture 55: LOD Type 2: EXCLUDE (Part 1)\n",
    "- Like mentioned before, we can exclude the vlaue of some number that will not be included in the calculation\n",
    "- In first example, we wanted for city to have the profit of the state and not of the city. Hence, using this,we can ignore the city, and get the profit of the State\n",
    "- He answered my question. There's really no point in this because we iwll be having the answer of the state and the city level. But why? It makes no sense bringing something that is aggreagated into a higher level of granualrity! \n",
    "    - For example, the answer for the state profit will be the same for all the cities!"
   ]
  },
  {
   "cell_type": "markdown",
   "metadata": {},
   "source": [
    "### Lecture 56: LOD Type 2: EXCLUDE (Part 2)\n",
    "- Rememeber to understand negative profits. You should include the abs for the shape key and represent the negative profit with the color!\n",
    "- The bad thing about the grah with the color is that if you a negative profit, the calculation will split the cities based on the value on the profit, even if it negative!\n",
    "    - The reason is simple. IF the state has a negative profit, and the city does too, then the answer Tableau will output is positive!"
   ]
  },
  {
   "cell_type": "markdown",
   "metadata": {},
   "source": [
    "### Lecture 57: Multiple fields in an LOD Calculation\n",
    "- Another way to rememeber how exlucde works is:\n",
    "    - if you see the variable that we mention exclude, ignore it and get the profit of the granualar level of it\n",
    "- One way around this is to apply both variables inside the EXCLUDE column"
   ]
  },
  {
   "cell_type": "markdown",
   "metadata": {},
   "source": [
    "### Lecture 58: LOD Type 3: FIXED\n",
    "- INCLUDE: We went into a lower level of granuarity (get the sum of all the cities) and brought it up to the state level. Remember when we go to the lower level of the cities, we must perform some kind of aggregation for it to bring it up the state level\n",
    "- EXCLUDE: If we want a value of a higher aggregation, we must exclude the current value to get the results of the higher level! The ATTR function came because we saw that they we needed some kind of aggregation but that was not sum, average, or so on. \n",
    "- FIXED: This helps us perform the previous two LOD with a strucutured result\n",
    "    -  With fixed, we do not have a relative pathway, hence, we must include every single step in the path\n",
    "- Unlike the previous INCLUDE AND FIXED, FOR EXCLUDE AND FIXED: they are the opposite as far pathways are concern"
   ]
  },
  {
   "cell_type": "markdown",
   "metadata": {},
   "source": [
    "### Lecture 58: Finalizing the Visualization\n",
    "- Click on the column in the header, which will show up the dual axis much quicker!"
   ]
  }
 ],
 "metadata": {
  "kernelspec": {
   "display_name": "Python 3",
   "language": "python",
   "name": "python3"
  },
  "language_info": {
   "codemirror_mode": {
    "name": "ipython",
    "version": 3
   },
   "file_extension": ".py",
   "mimetype": "text/x-python",
   "name": "python",
   "nbconvert_exporter": "python",
   "pygments_lexer": "ipython3",
   "version": "3.6.0"
  }
 },
 "nbformat": 4,
 "nbformat_minor": 2
}
